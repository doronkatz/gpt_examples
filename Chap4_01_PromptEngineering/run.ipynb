{
 "cells": [
  {
   "cell_type": "code",
   "execution_count": 1,
   "metadata": {},
   "outputs": [],
   "source": [
    "from openai import OpenAI\n",
    "from dotenv import load_dotenv\n",
    "\n",
    "load_dotenv()\n",
    "import openai  # Correct import for the OpenAI library\n",
    "\n",
    "client = OpenAI()\n",
    "\n",
    "def chat_completion(prompt, model=\"gpt-4\", temperature=0):\n",
    "    result = client.chat.completions.create(\n",
    "        model=model,\n",
    "        messages=[{\"role\": \"user\", \"content\": prompt}],\n",
    "        temperature=temperature,\n",
    "    )\n",
    "    print(result.choices[0].message.content)\n",
    "\n"
   ]
  },
  {
   "attachments": {},
   "cell_type": "markdown",
   "metadata": {},
   "source": [
    "## Context, task and role"
   ]
  },
  {
   "cell_type": "code",
   "execution_count": 2,
   "metadata": {},
   "outputs": [
    {
     "name": "stdout",
     "output_type": "stream",
     "text": [
      "How about grilled chicken with roasted vegetables and quinoa? It's a healthy and delicious option.\n"
     ]
    }
   ],
   "source": [
    "\n",
    "chat_completion(\"Give me a suggestion for the main course for today's lunch.\")"
   ]
  },
  {
   "cell_type": "code",
   "execution_count": 12,
   "metadata": {},
   "outputs": [
    {
     "name": "stdout",
     "output_type": "stream",
     "text": [
      "How about a hearty Chickpea Curry with brown rice? It's packed with protein and fiber, and you can add in other colorful vegetables like bell peppers, tomatoes, and carrots instead of green vegetables. You can also add some spices like turmeric and cumin for added health benefits.\n"
     ]
    }
   ],
   "source": [
    "prompt = \"\"\"\n",
    "Context: I do 2 hours of sport a day. I am vegetarian, and I don't like green \n",
    "vegetables. I am conscientious about eating healthily. \n",
    "Task: Give me a suggestion for a main course for today's lunch.\"\"\"\n",
    "chat_completion(prompt)"
   ]
  },
  {
   "cell_type": "code",
   "execution_count": 3,
   "metadata": {},
   "outputs": [
    {
     "name": "stdout",
     "output_type": "stream",
     "text": [
      "1. What types of sports do you engage in daily? This can help determine the amount of calories you need.\n",
      "2. Are there any specific vegetarian foods you prefer or dislike, apart from green vegetables?\n",
      "3. Do you have any allergies or food intolerances?\n",
      "4. Do you prefer a hot or cold main course for lunch?\n",
      "5. Are you looking for a high-protein meal to support your sports activities?\n",
      "6. Do you have any specific dietary restrictions or guidelines you follow, such as low-carb, gluten-free, etc.?\n",
      "7. Do you prefer a certain cuisine or are you open to trying different types of food? \n",
      "8. Are there any specific nutrients or food groups you're trying to incorporate more into your diet?\n"
     ]
    }
   ],
   "source": [
    "prompt = \"\"\"\n",
    "Context: I do 2 hours of sport a day. I am vegetarian and I don't like green \n",
    "vegetables. I am very careful to eat healthily.\n",
    "Task: Give me a suggestion for a main course for today's lunch?\n",
    "Do not perform the requested task! Instead, can you ask me questions about the \n",
    "context so that when I answer, you can perform the requested task more\n",
    "efficiently?\n",
    "\"\"\"\n",
    "chat_completion(prompt)"
   ]
  },
  {
   "cell_type": "code",
   "execution_count": 4,
   "metadata": {},
   "outputs": [
    {
     "name": "stdout",
     "output_type": "stream",
     "text": [
      "Main Course Suggestion: Vegetarian Quinoa Stir-Fry\n",
      "\n",
      "| Ingredient Name | Quantity (in grams) |\n",
      "|-----------------|---------------------|\n",
      "| Quinoa          | 185                 |\n",
      "| Olive Oil       | 15                  |\n",
      "| Garlic          | 10                  |\n",
      "| Onion           | 70                  |\n",
      "| Bell Peppers    | 75                  |\n",
      "| Carrots         | 60                  |\n",
      "| Mushrooms       | 50                  |\n",
      "| Tofu            | 100                 |\n",
      "| Soy Sauce       | 30                  |\n",
      "| Sesame Seeds    | 10                  |\n"
     ]
    }
   ],
   "source": [
    "prompt = \"\"\"\n",
    "Context: I do 2 hours of sport a day. I am vegetarian, and I don't like green \n",
    "vegetables. I am conscientious about eating healthily.\n",
    "Task: Give me a suggestion for a main course for today's lunch.\n",
    "With this suggestion, I also want a table with two columns where each row \n",
    "contains an ingredient from the main course.\n",
    "The first column in the table is the name of the ingredient.\n",
    "The second column of the table is the number of grams of that ingredient needed \n",
    "for one person. Do not give the recipe for preparing the main course.\n",
    "\"\"\"\n",
    "chat_completion(prompt)"
   ]
  },
  {
   "cell_type": "code",
   "execution_count": 15,
   "metadata": {},
   "outputs": [
    {
     "name": "stdout",
     "output_type": "stream",
     "text": [
      "Main Course Suggestion: Quinoa and Black Bean Salad\n",
      "\n",
      "| Ingredient | Quantity (grams) |\n",
      "|------------|------------------|\n",
      "| Quinoa     | 185              |\n",
      "| Black Beans| 130              |\n",
      "| Corn       | 80               |\n",
      "| Red Bell Pepper | 75         |\n",
      "| Avocado    | 150              |\n",
      "| Lime       | 60               |\n",
      "| Olive Oil  | 15               |\n",
      "| Cilantro   | 20               |\n",
      "| Salt       | 5                |\n",
      "| Pepper     | 2                |\n"
     ]
    }
   ],
   "source": [
    "prompt = \"\"\"\n",
    "Role: You are a nutritionist designing healthy diets for high-performance athletes. You take into account the nutrition needed for a good recovery.\n",
    "Context: I do 2 hours of sport a day. I am vegetarian, and I don't like green vegetables. I am conscientious about eating healthily.\n",
    "Task: Based on your expertise defined in your role. Give me a suggestion for a main course for today's lunch. \n",
    "With this suggestion, I also want a table with two columns where each row in the table contains an ingredient from the main course.\n",
    "The first column in the table is the name of the ingredient.\n",
    "The second column of the table is the number of grams of that ingredient needed for one person. \n",
    "Do not give the recipe for preparing the main course.\n",
    "\"\"\"\n",
    "chat_completion(prompt)\n"
   ]
  },
  {
   "attachments": {},
   "cell_type": "markdown",
   "metadata": {},
   "source": [
    "## Thinking Step by Step"
   ]
  },
  {
   "cell_type": "code",
   "execution_count": 16,
   "metadata": {},
   "outputs": [
    {
     "name": "stdout",
     "output_type": "stream",
     "text": [
      "455415\n"
     ]
    }
   ],
   "source": [
    "prompt = \"How much is 369 * 1235?\"\n",
    "chat_completion(prompt)\n"
   ]
  },
  {
   "cell_type": "code",
   "execution_count": 17,
   "metadata": {},
   "outputs": [
    {
     "name": "stdout",
     "output_type": "stream",
     "text": [
      "Step 1: Multiply 9 (from 369) by 1235. The result is 11115.\n",
      "Step 2: Multiply 6 (from 369, but it's actually 60 because it's in the tens place) by 1235. The result is 74100.\n",
      "Step 3: Multiply 3 (from 369, but it's actually 300 because it's in the hundreds place) by 1235. The result is 370500.\n",
      "Step 4: Add the results from steps 1, 2, and 3. \n",
      "\n",
      "So, 11115 (from step 1) + 74100 (from step 2) + 370500 (from step 3) = 455715.\n",
      "\n",
      "Therefore, 369 * 1235 = 455715.\n"
     ]
    }
   ],
   "source": [
    "prompt = \"How much is 369 * 1235 ? Let's think step by step.\"\n",
    "chat_completion(prompt)\n"
   ]
  },
  {
   "attachments": {},
   "cell_type": "markdown",
   "metadata": {},
   "source": [
    "## Few Shot Learning "
   ]
  },
  {
   "cell_type": "code",
   "execution_count": 5,
   "metadata": {},
   "outputs": [
    {
     "name": "stdout",
     "output_type": "stream",
     "text": [
      "The 👦 ✍️ a 💌 to a 👧\n"
     ]
    }
   ],
   "source": [
    "prompt = \"\"\"\n",
    "I go home --> 😊 go 🏠\n",
    "my dog is sad --> my 🐶 is 😞\n",
    "I run fast --> 😊 run ⚡\n",
    "I love my wife --> 😊 ❤️ my wife\n",
    "the girl plays with the ball --> the 👧 🎮 with the 🏀\n",
    "The boy writes a letter to a girl --> \n",
    "\"\"\"\n",
    "chat_completion(prompt)\n"
   ]
  },
  {
   "cell_type": "code",
   "execution_count": null,
   "metadata": {},
   "outputs": [],
   "source": []
  }
 ],
 "metadata": {
  "kernelspec": {
   "display_name": "venv",
   "language": "python",
   "name": "python3"
  },
  "language_info": {
   "codemirror_mode": {
    "name": "ipython",
    "version": 3
   },
   "file_extension": ".py",
   "mimetype": "text/x-python",
   "name": "python",
   "nbconvert_exporter": "python",
   "pygments_lexer": "ipython3",
   "version": "3.10.16"
  },
  "orig_nbformat": 4
 },
 "nbformat": 4,
 "nbformat_minor": 2
}
